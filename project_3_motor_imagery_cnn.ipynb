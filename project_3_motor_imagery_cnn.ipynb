{
 "cells": [
  {
   "cell_type": "markdown",
   "id": "e940c770",
   "metadata": {},
   "source": [
    "# BCI Portfolio Project 3: Motor Imagery BCI Classifier"
   ]
  },
  {
   "cell_type": "code",
   "execution_count": 1,
   "id": "0bf0a531",
   "metadata": {},
   "outputs": [
    {
     "name": "stdout",
     "output_type": "stream",
     "text": [
      "Requirement already satisfied: mne in c:\\users\\arl3t\\appdata\\local\\programs\\python\\python39\\lib\\site-packages (1.8.0)\n",
      "Requirement already satisfied: packaging in c:\\users\\arl3t\\appdata\\roaming\\python\\python39\\site-packages (from mne) (25.0)\n",
      "Requirement already satisfied: scipy>=1.9 in c:\\users\\arl3t\\appdata\\local\\programs\\python\\python39\\lib\\site-packages (from mne) (1.13.1)\n",
      "Requirement already satisfied: jinja2 in c:\\users\\arl3t\\appdata\\local\\programs\\python\\python39\\lib\\site-packages (from mne) (3.1.6)\n",
      "Requirement already satisfied: tqdm in c:\\users\\arl3t\\appdata\\local\\programs\\python\\python39\\lib\\site-packages (from mne) (4.67.1)\n",
      "Requirement already satisfied: numpy<3,>=1.23 in c:\\users\\arl3t\\appdata\\local\\programs\\python\\python39\\lib\\site-packages (from mne) (2.0.2)\n",
      "Requirement already satisfied: decorator in c:\\users\\arl3t\\appdata\\roaming\\python\\python39\\site-packages (from mne) (5.2.1)\n",
      "Requirement already satisfied: pooch>=1.5 in c:\\users\\arl3t\\appdata\\local\\programs\\python\\python39\\lib\\site-packages (from mne) (1.8.2)\n",
      "Requirement already satisfied: lazy-loader>=0.3 in c:\\users\\arl3t\\appdata\\local\\programs\\python\\python39\\lib\\site-packages (from mne) (0.4)\n",
      "Requirement already satisfied: matplotlib>=3.6 in c:\\users\\arl3t\\appdata\\local\\programs\\python\\python39\\lib\\site-packages (from mne) (3.9.4)\n",
      "Requirement already satisfied: importlib-resources>=3.2.0 in c:\\users\\arl3t\\appdata\\local\\programs\\python\\python39\\lib\\site-packages (from matplotlib>=3.6->mne) (6.5.2)\n",
      "Requirement already satisfied: pyparsing>=2.3.1 in c:\\users\\arl3t\\appdata\\local\\programs\\python\\python39\\lib\\site-packages (from matplotlib>=3.6->mne) (3.2.3)\n",
      "Requirement already satisfied: kiwisolver>=1.3.1 in c:\\users\\arl3t\\appdata\\local\\programs\\python\\python39\\lib\\site-packages (from matplotlib>=3.6->mne) (1.4.7)\n",
      "Requirement already satisfied: contourpy>=1.0.1 in c:\\users\\arl3t\\appdata\\local\\programs\\python\\python39\\lib\\site-packages (from matplotlib>=3.6->mne) (1.3.0)\n",
      "Requirement already satisfied: pillow>=8 in c:\\users\\arl3t\\appdata\\local\\programs\\python\\python39\\lib\\site-packages (from matplotlib>=3.6->mne) (11.2.1)\n",
      "Requirement already satisfied: cycler>=0.10 in c:\\users\\arl3t\\appdata\\local\\programs\\python\\python39\\lib\\site-packages (from matplotlib>=3.6->mne) (0.12.1)\n",
      "Requirement already satisfied: fonttools>=4.22.0 in c:\\users\\arl3t\\appdata\\local\\programs\\python\\python39\\lib\\site-packages (from matplotlib>=3.6->mne) (4.58.1)\n",
      "Requirement already satisfied: python-dateutil>=2.7 in c:\\users\\arl3t\\appdata\\roaming\\python\\python39\\site-packages (from matplotlib>=3.6->mne) (2.9.0.post0)\n",
      "Requirement already satisfied: requests>=2.19.0 in c:\\users\\arl3t\\appdata\\local\\programs\\python\\python39\\lib\\site-packages (from pooch>=1.5->mne) (2.32.3)\n",
      "Requirement already satisfied: platformdirs>=2.5.0 in c:\\users\\arl3t\\appdata\\roaming\\python\\python39\\site-packages (from pooch>=1.5->mne) (4.3.8)\n",
      "Requirement already satisfied: MarkupSafe>=2.0 in c:\\users\\arl3t\\appdata\\local\\programs\\python\\python39\\lib\\site-packages (from jinja2->mne) (3.0.2)\n",
      "Requirement already satisfied: colorama in c:\\users\\arl3t\\appdata\\roaming\\python\\python39\\site-packages (from tqdm->mne) (0.4.6)\n",
      "Requirement already satisfied: zipp>=3.1.0 in c:\\users\\arl3t\\appdata\\roaming\\python\\python39\\site-packages (from importlib-resources>=3.2.0->matplotlib>=3.6->mne) (3.22.0)\n",
      "Requirement already satisfied: six>=1.5 in c:\\users\\arl3t\\appdata\\roaming\\python\\python39\\site-packages (from python-dateutil>=2.7->matplotlib>=3.6->mne) (1.17.0)\n",
      "Requirement already satisfied: charset-normalizer<4,>=2 in c:\\users\\arl3t\\appdata\\local\\programs\\python\\python39\\lib\\site-packages (from requests>=2.19.0->pooch>=1.5->mne) (3.4.2)\n",
      "Requirement already satisfied: idna<4,>=2.5 in c:\\users\\arl3t\\appdata\\local\\programs\\python\\python39\\lib\\site-packages (from requests>=2.19.0->pooch>=1.5->mne) (3.10)\n",
      "Requirement already satisfied: certifi>=2017.4.17 in c:\\users\\arl3t\\appdata\\local\\programs\\python\\python39\\lib\\site-packages (from requests>=2.19.0->pooch>=1.5->mne) (2025.4.26)\n",
      "Requirement already satisfied: urllib3<3,>=1.21.1 in c:\\users\\arl3t\\appdata\\local\\programs\\python\\python39\\lib\\site-packages (from requests>=2.19.0->pooch>=1.5->mne) (2.4.0)\n",
      "Note: you may need to restart the kernel to use updated packages.\n"
     ]
    },
    {
     "name": "stderr",
     "output_type": "stream",
     "text": [
      "WARNING: You are using pip version 22.0.4; however, version 25.1.1 is available.\n",
      "You should consider upgrading via the 'c:\\Users\\Arl3t\\AppData\\Local\\Programs\\Python\\Python39\\python.exe -m pip install --upgrade pip' command.\n"
     ]
    },
    {
     "name": "stdout",
     "output_type": "stream",
     "text": [
      "Collecting sklearn\n",
      "  Using cached sklearn-0.0.post12.tar.gz (2.6 kB)\n",
      "  Preparing metadata (setup.py): started\n",
      "  Preparing metadata (setup.py): finished with status 'error'\n",
      "Note: you may need to restart the kernel to use updated packages.\n"
     ]
    },
    {
     "name": "stderr",
     "output_type": "stream",
     "text": [
      "  error: subprocess-exited-with-error\n",
      "  \n",
      "  × python setup.py egg_info did not run successfully.\n",
      "  │ exit code: 1\n",
      "  ╰─> [15 lines of output]\n",
      "      The 'sklearn' PyPI package is deprecated, use 'scikit-learn'\n",
      "      rather than 'sklearn' for pip commands.\n",
      "      \n",
      "      Here is how to fix this error in the main use cases:\n",
      "      - use 'pip install scikit-learn' rather than 'pip install sklearn'\n",
      "      - replace 'sklearn' by 'scikit-learn' in your pip requirements files\n",
      "        (requirements.txt, setup.py, setup.cfg, Pipfile, etc ...)\n",
      "      - if the 'sklearn' package is used by one of your dependencies,\n",
      "        it would be great if you take some time to track which package uses\n",
      "        'sklearn' instead of 'scikit-learn' and report it to their issue tracker\n",
      "      - as a last resort, set the environment variable\n",
      "        SKLEARN_ALLOW_DEPRECATED_SKLEARN_PACKAGE_INSTALL=True to avoid this error\n",
      "      \n",
      "      More information is available at\n",
      "      https://github.com/scikit-learn/sklearn-pypi-package\n",
      "      [end of output]\n",
      "  \n",
      "  note: This error originates from a subprocess, and is likely not a problem with pip.\n",
      "error: metadata-generation-failed\n",
      "\n",
      "× Encountered error while generating package metadata.\n",
      "╰─> See above for output.\n",
      "\n",
      "note: This is an issue with the package mentioned above, not pip.\n",
      "hint: See above for details.\n",
      "WARNING: You are using pip version 22.0.4; however, version 25.1.1 is available.\n",
      "You should consider upgrading via the 'c:\\Users\\Arl3t\\AppData\\Local\\Programs\\Python\\Python39\\python.exe -m pip install --upgrade pip' command.\n"
     ]
    },
    {
     "name": "stdout",
     "output_type": "stream",
     "text": [
      "Requirement already satisfied: scikit-learn in c:\\users\\arl3t\\appdata\\local\\programs\\python\\python39\\lib\\site-packages (1.6.1)\n",
      "Requirement already satisfied: numpy>=1.19.5 in c:\\users\\arl3t\\appdata\\local\\programs\\python\\python39\\lib\\site-packages (from scikit-learn) (2.0.2)\n",
      "Requirement already satisfied: joblib>=1.2.0 in c:\\users\\arl3t\\appdata\\local\\programs\\python\\python39\\lib\\site-packages (from scikit-learn) (1.5.1)\n",
      "Requirement already satisfied: scipy>=1.6.0 in c:\\users\\arl3t\\appdata\\local\\programs\\python\\python39\\lib\\site-packages (from scikit-learn) (1.13.1)\n",
      "Requirement already satisfied: threadpoolctl>=3.1.0 in c:\\users\\arl3t\\appdata\\local\\programs\\python\\python39\\lib\\site-packages (from scikit-learn) (3.6.0)\n",
      "Note: you may need to restart the kernel to use updated packages.\n"
     ]
    },
    {
     "name": "stderr",
     "output_type": "stream",
     "text": [
      "WARNING: You are using pip version 22.0.4; however, version 25.1.1 is available.\n",
      "You should consider upgrading via the 'c:\\Users\\Arl3t\\AppData\\Local\\Programs\\Python\\Python39\\python.exe -m pip install --upgrade pip' command.\n"
     ]
    },
    {
     "name": "stdout",
     "output_type": "stream",
     "text": [
      "Requirement already satisfied: tensorflow in c:\\users\\arl3t\\appdata\\local\\programs\\python\\python39\\lib\\site-packages (2.19.0)\n",
      "Requirement already satisfied: opt-einsum>=2.3.2 in c:\\users\\arl3t\\appdata\\local\\programs\\python\\python39\\lib\\site-packages (from tensorflow) (3.4.0)\n",
      "Requirement already satisfied: protobuf!=4.21.0,!=4.21.1,!=4.21.2,!=4.21.3,!=4.21.4,!=4.21.5,<6.0.0dev,>=3.20.3 in c:\\users\\arl3t\\appdata\\local\\programs\\python\\python39\\lib\\site-packages (from tensorflow) (5.29.5)\n",
      "Requirement already satisfied: setuptools in c:\\users\\arl3t\\appdata\\local\\programs\\python\\python39\\lib\\site-packages (from tensorflow) (58.1.0)\n",
      "Requirement already satisfied: flatbuffers>=24.3.25 in c:\\users\\arl3t\\appdata\\local\\programs\\python\\python39\\lib\\site-packages (from tensorflow) (25.2.10)\n",
      "Requirement already satisfied: keras>=3.5.0 in c:\\users\\arl3t\\appdata\\local\\programs\\python\\python39\\lib\\site-packages (from tensorflow) (3.10.0)\n",
      "Requirement already satisfied: termcolor>=1.1.0 in c:\\users\\arl3t\\appdata\\local\\programs\\python\\python39\\lib\\site-packages (from tensorflow) (3.1.0)\n",
      "Requirement already satisfied: ml-dtypes<1.0.0,>=0.5.1 in c:\\users\\arl3t\\appdata\\local\\programs\\python\\python39\\lib\\site-packages (from tensorflow) (0.5.1)\n",
      "Requirement already satisfied: tensorflow-io-gcs-filesystem>=0.23.1 in c:\\users\\arl3t\\appdata\\local\\programs\\python\\python39\\lib\\site-packages (from tensorflow) (0.31.0)\n",
      "Requirement already satisfied: tensorboard~=2.19.0 in c:\\users\\arl3t\\appdata\\local\\programs\\python\\python39\\lib\\site-packages (from tensorflow) (2.19.0)\n",
      "Requirement already satisfied: six>=1.12.0 in c:\\users\\arl3t\\appdata\\roaming\\python\\python39\\site-packages (from tensorflow) (1.17.0)\n",
      "Requirement already satisfied: absl-py>=1.0.0 in c:\\users\\arl3t\\appdata\\local\\programs\\python\\python39\\lib\\site-packages (from tensorflow) (2.3.0)\n",
      "Requirement already satisfied: numpy<2.2.0,>=1.26.0 in c:\\users\\arl3t\\appdata\\local\\programs\\python\\python39\\lib\\site-packages (from tensorflow) (2.0.2)\n",
      "Requirement already satisfied: h5py>=3.11.0 in c:\\users\\arl3t\\appdata\\local\\programs\\python\\python39\\lib\\site-packages (from tensorflow) (3.13.0)\n",
      "Requirement already satisfied: astunparse>=1.6.0 in c:\\users\\arl3t\\appdata\\local\\programs\\python\\python39\\lib\\site-packages (from tensorflow) (1.6.3)\n",
      "Requirement already satisfied: wrapt>=1.11.0 in c:\\users\\arl3t\\appdata\\local\\programs\\python\\python39\\lib\\site-packages (from tensorflow) (1.17.2)\n",
      "Requirement already satisfied: gast!=0.5.0,!=0.5.1,!=0.5.2,>=0.2.1 in c:\\users\\arl3t\\appdata\\local\\programs\\python\\python39\\lib\\site-packages (from tensorflow) (0.6.0)\n",
      "Requirement already satisfied: libclang>=13.0.0 in c:\\users\\arl3t\\appdata\\local\\programs\\python\\python39\\lib\\site-packages (from tensorflow) (18.1.1)\n",
      "Requirement already satisfied: grpcio<2.0,>=1.24.3 in c:\\users\\arl3t\\appdata\\local\\programs\\python\\python39\\lib\\site-packages (from tensorflow) (1.71.0)\n",
      "Requirement already satisfied: typing-extensions>=3.6.6 in c:\\users\\arl3t\\appdata\\roaming\\python\\python39\\site-packages (from tensorflow) (4.13.2)\n",
      "Requirement already satisfied: google-pasta>=0.1.1 in c:\\users\\arl3t\\appdata\\local\\programs\\python\\python39\\lib\\site-packages (from tensorflow) (0.2.0)\n",
      "Requirement already satisfied: packaging in c:\\users\\arl3t\\appdata\\roaming\\python\\python39\\site-packages (from tensorflow) (25.0)\n",
      "Requirement already satisfied: requests<3,>=2.21.0 in c:\\users\\arl3t\\appdata\\local\\programs\\python\\python39\\lib\\site-packages (from tensorflow) (2.32.3)\n",
      "Requirement already satisfied: wheel<1.0,>=0.23.0 in c:\\users\\arl3t\\appdata\\local\\programs\\python\\python39\\lib\\site-packages (from astunparse>=1.6.0->tensorflow) (0.45.1)\n",
      "Requirement already satisfied: namex in c:\\users\\arl3t\\appdata\\local\\programs\\python\\python39\\lib\\site-packages (from keras>=3.5.0->tensorflow) (0.1.0)\n",
      "Requirement already satisfied: rich in c:\\users\\arl3t\\appdata\\local\\programs\\python\\python39\\lib\\site-packages (from keras>=3.5.0->tensorflow) (14.0.0)\n",
      "Requirement already satisfied: optree in c:\\users\\arl3t\\appdata\\local\\programs\\python\\python39\\lib\\site-packages (from keras>=3.5.0->tensorflow) (0.16.0)\n",
      "Requirement already satisfied: certifi>=2017.4.17 in c:\\users\\arl3t\\appdata\\local\\programs\\python\\python39\\lib\\site-packages (from requests<3,>=2.21.0->tensorflow) (2025.4.26)\n",
      "Requirement already satisfied: idna<4,>=2.5 in c:\\users\\arl3t\\appdata\\local\\programs\\python\\python39\\lib\\site-packages (from requests<3,>=2.21.0->tensorflow) (3.10)\n",
      "Requirement already satisfied: urllib3<3,>=1.21.1 in c:\\users\\arl3t\\appdata\\local\\programs\\python\\python39\\lib\\site-packages (from requests<3,>=2.21.0->tensorflow) (2.4.0)\n",
      "Requirement already satisfied: charset-normalizer<4,>=2 in c:\\users\\arl3t\\appdata\\local\\programs\\python\\python39\\lib\\site-packages (from requests<3,>=2.21.0->tensorflow) (3.4.2)\n",
      "Requirement already satisfied: werkzeug>=1.0.1 in c:\\users\\arl3t\\appdata\\local\\programs\\python\\python39\\lib\\site-packages (from tensorboard~=2.19.0->tensorflow) (3.1.3)\n",
      "Requirement already satisfied: tensorboard-data-server<0.8.0,>=0.7.0 in c:\\users\\arl3t\\appdata\\local\\programs\\python\\python39\\lib\\site-packages (from tensorboard~=2.19.0->tensorflow) (0.7.2)\n",
      "Requirement already satisfied: markdown>=2.6.8 in c:\\users\\arl3t\\appdata\\local\\programs\\python\\python39\\lib\\site-packages (from tensorboard~=2.19.0->tensorflow) (3.8)\n",
      "Requirement already satisfied: importlib-metadata>=4.4 in c:\\users\\arl3t\\appdata\\roaming\\python\\python39\\site-packages (from markdown>=2.6.8->tensorboard~=2.19.0->tensorflow) (8.7.0)\n",
      "Requirement already satisfied: MarkupSafe>=2.1.1 in c:\\users\\arl3t\\appdata\\local\\programs\\python\\python39\\lib\\site-packages (from werkzeug>=1.0.1->tensorboard~=2.19.0->tensorflow) (3.0.2)\n",
      "Requirement already satisfied: pygments<3.0.0,>=2.13.0 in c:\\users\\arl3t\\appdata\\roaming\\python\\python39\\site-packages (from rich->keras>=3.5.0->tensorflow) (2.19.1)\n",
      "Requirement already satisfied: markdown-it-py>=2.2.0 in c:\\users\\arl3t\\appdata\\local\\programs\\python\\python39\\lib\\site-packages (from rich->keras>=3.5.0->tensorflow) (3.0.0)\n",
      "Requirement already satisfied: zipp>=3.20 in c:\\users\\arl3t\\appdata\\roaming\\python\\python39\\site-packages (from importlib-metadata>=4.4->markdown>=2.6.8->tensorboard~=2.19.0->tensorflow) (3.22.0)\n",
      "Requirement already satisfied: mdurl~=0.1 in c:\\users\\arl3t\\appdata\\local\\programs\\python\\python39\\lib\\site-packages (from markdown-it-py>=2.2.0->rich->keras>=3.5.0->tensorflow) (0.1.2)\n",
      "Note: you may need to restart the kernel to use updated packages.\n"
     ]
    },
    {
     "name": "stderr",
     "output_type": "stream",
     "text": [
      "WARNING: You are using pip version 22.0.4; however, version 25.1.1 is available.\n",
      "You should consider upgrading via the 'c:\\Users\\Arl3t\\AppData\\Local\\Programs\\Python\\Python39\\python.exe -m pip install --upgrade pip' command.\n"
     ]
    },
    {
     "name": "stdout",
     "output_type": "stream",
     "text": [
      "Requirement already satisfied: keras in c:\\users\\arl3t\\appdata\\local\\programs\\python\\python39\\lib\\site-packages (3.10.0)\n",
      "Requirement already satisfied: optree in c:\\users\\arl3t\\appdata\\local\\programs\\python\\python39\\lib\\site-packages (from keras) (0.16.0)\n",
      "Requirement already satisfied: packaging in c:\\users\\arl3t\\appdata\\roaming\\python\\python39\\site-packages (from keras) (25.0)\n",
      "Requirement already satisfied: absl-py in c:\\users\\arl3t\\appdata\\local\\programs\\python\\python39\\lib\\site-packages (from keras) (2.3.0)\n",
      "Requirement already satisfied: h5py in c:\\users\\arl3t\\appdata\\local\\programs\\python\\python39\\lib\\site-packages (from keras) (3.13.0)\n",
      "Requirement already satisfied: namex in c:\\users\\arl3t\\appdata\\local\\programs\\python\\python39\\lib\\site-packages (from keras) (0.1.0)\n",
      "Requirement already satisfied: numpy in c:\\users\\arl3t\\appdata\\local\\programs\\python\\python39\\lib\\site-packages (from keras) (2.0.2)\n",
      "Requirement already satisfied: rich in c:\\users\\arl3t\\appdata\\local\\programs\\python\\python39\\lib\\site-packages (from keras) (14.0.0)\n",
      "Requirement already satisfied: ml-dtypes in c:\\users\\arl3t\\appdata\\local\\programs\\python\\python39\\lib\\site-packages (from keras) (0.5.1)\n",
      "Requirement already satisfied: typing-extensions>=4.6.0 in c:\\users\\arl3t\\appdata\\roaming\\python\\python39\\site-packages (from optree->keras) (4.13.2)\n",
      "Requirement already satisfied: markdown-it-py>=2.2.0 in c:\\users\\arl3t\\appdata\\local\\programs\\python\\python39\\lib\\site-packages (from rich->keras) (3.0.0)\n",
      "Requirement already satisfied: pygments<3.0.0,>=2.13.0 in c:\\users\\arl3t\\appdata\\roaming\\python\\python39\\site-packages (from rich->keras) (2.19.1)\n",
      "Requirement already satisfied: mdurl~=0.1 in c:\\users\\arl3t\\appdata\\local\\programs\\python\\python39\\lib\\site-packages (from markdown-it-py>=2.2.0->rich->keras) (0.1.2)\n",
      "Note: you may need to restart the kernel to use updated packages.\n"
     ]
    },
    {
     "name": "stderr",
     "output_type": "stream",
     "text": [
      "WARNING: You are using pip version 22.0.4; however, version 25.1.1 is available.\n",
      "You should consider upgrading via the 'c:\\Users\\Arl3t\\AppData\\Local\\Programs\\Python\\Python39\\python.exe -m pip install --upgrade pip' command.\n"
     ]
    }
   ],
   "source": [
    "%pip install mne\n",
    "%pip install sklearn\n",
    "%pip install scikit-learn\n",
    "%pip install tensorflow\n",
    "%pip install keras"
   ]
  },
  {
   "cell_type": "code",
   "execution_count": null,
   "id": "211761f0",
   "metadata": {},
   "outputs": [
    {
     "name": "stdout",
     "output_type": "stream",
     "text": [
      "Extracting EDF parameters from c:\\Users\\Arl3t\\OneDrive\\Documents\\Financial Strategies\\Projects\\BCI Profolio Projects\\bci_portfolio_projects\\BCICIV_2a_gdf.gdf...\n",
      "GDF file detected\n"
     ]
    }
   ],
   "source": [
    "# BCI Portfolio Project 3: Motor Imagery BCI Classifier\n",
    "\"\"\"\n",
    "Goal: Classify left vs right hand motor imagery EEG using CNN.\n",
    "Dataset: BCI Competition IV Dataset 2a\n",
    "Download: http://www.bbci.de/competition/iv/\n",
    "\"\"\"\n",
    "import os\n",
    "import mne\n",
    "import sklearn as sk\n",
    "\n",
    "from sklearn.model_selection import train_test_split\n",
    "from tensorflow.keras.models import Sequential\n",
    "from tensorflow.keras.layers import Conv1D, MaxPooling1D, Flatten, Dense, Dropout\n",
    "from tensorflow.keras.utils import to_categorical\n",
    "\n",
    "# Load Data\n",
    "data_path = \"BCICIV_2a_gdf.gdf\"  # Example filename from BCI Competition\n",
    "\n",
    "if not os.path.exists(data_path):\n",
    "    import urllib.request\n",
    "    url = \"http://www.bbci.de/competition/iv/desc_2a.pdf\"  # <-- Replace with the direct .gdf file URL if available\n",
    "    print(f\"File '{data_path}' not found. Attempting to download...\")\n",
    "    try:\n",
    "        urllib.request.urlretrieve(url, data_path)\n",
    "        print(f\"Downloaded '{data_path}'.\")\n",
    "    except Exception as e:\n",
    "        raise FileNotFoundError(\n",
    "            f\"File '{data_path}' not found and automatic download failed. \"\n",
    "            f\"Please download the dataset from http://www.bbci.de/competition/iv/ and place it in the working directory.\\nError: {e}\"\n",
    "        )\n",
    "\n",
    "raw = mne.io.read_raw_gdf(data_path, preload=True)\n",
    "events, _ = mne.events_from_annotations(raw)\n",
    "epochs = mne.Epochs(raw, events, event_id={'769': 1, '770': 2}, tmin=0, tmax=2, baseline=None, preload=True)\n",
    "data = epochs.get_data()\n",
    "labels = epochs.events[:, -1] - 1\n",
    "\n",
    "X_train, X_test, y_train, y_test = train_test_split(data, labels, test_size=0.2, random_state=42)\n",
    "y_train = to_categorical(y_train)\n",
    "y_test = to_categorical(y_test)\n",
    "\n",
    "model = Sequential([\n",
    "    Conv1D(64, 3, activation='relu', input_shape=X_train.shape[1:]),\n",
    "    MaxPooling1D(2),\n",
    "    Dropout(0.2),\n",
    "    Flatten(),\n",
    "    Dense(100, activation='relu'),\n",
    "    Dense(2, activation='softmax')\n",
    "])\n",
    "\n",
    "model.compile(optimizer='adam', loss='categorical_crossentropy', metrics=['accuracy'])\n",
    "model.fit(X_train, y_train, epochs=10, validation_data=(X_test, y_test))"
   ]
  }
 ],
 "metadata": {
  "kernelspec": {
   "display_name": "Python 3",
   "language": "python",
   "name": "python3"
  },
  "language_info": {
   "codemirror_mode": {
    "name": "ipython",
    "version": 3
   },
   "file_extension": ".py",
   "mimetype": "text/x-python",
   "name": "python",
   "nbconvert_exporter": "python",
   "pygments_lexer": "ipython3",
   "version": "3.9.13"
  }
 },
 "nbformat": 4,
 "nbformat_minor": 5
}
